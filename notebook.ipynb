{
 "cells": [
  {
   "cell_type": "markdown",
   "metadata": {},
   "source": [
    "Read data in text format->Docs->Divide data into chunks->vector embeddings->vector db->query"
   ]
  },
  {
   "cell_type": "code",
   "execution_count": 6,
   "metadata": {},
   "outputs": [],
   "source": [
    "\n",
    "import pandas as pd\n",
    "df = pd.read_csv('small_set_mix.csv')\n",
    "# Define the function to generate descriptive text\n",
    "def transform_to_descriptive_text(row):\n",
    "    description = (\n",
    "        f\"On {row['Date']}, the stock {row['Symbol']} opened at {row['Open']}, \"\n",
    "        f\"reached a high of {row['High']}, a low of {row['Low']}, and closed at {row['Close']}. \"\n",
    "        f\"The previous close was {row['Prev Close']}. The total traded volume was {row['Volume']}, \"\n",
    "        f\"with a turnover of {row['Turnover']} and a deliverable volume of {row['Deliverable Volume']} \"\n",
    "        f\"which represents {row['%Deliverble']*100:.2f}% of the total volume.\"\n",
    "    )\n",
    "    return description\n",
    "\n",
    "# Apply the function to each row and save in a list\n",
    "sentences = df.apply(transform_to_descriptive_text, axis=1).tolist()"
   ]
  },
  {
   "cell_type": "code",
   "execution_count": 7,
   "metadata": {},
   "outputs": [
    {
     "data": {
      "text/plain": [
       "['On 2016-12-23, the stock ADANIPORTS opened at 262.15, reached a high of 268.5, a low of 259.05, and closed at 262.9. The previous close was 263.55. The total traded volume was 3336863, with a turnover of 87787444520000.0 and a deliverable volume of 1241539 which represents 37.21% of the total volume.',\n",
       " 'On 2012-05-03, the stock ADANIPORTS opened at 126.55, reached a high of 127.5, a low of 124.45, and closed at 124.95. The previous close was 126.05. The total traded volume was 626023, with a turnover of 7862758770000.0 and a deliverable volume of 202501 which represents 32.35% of the total volume.',\n",
       " 'On 2019-04-24, the stock ADANIPORTS opened at 387.7, reached a high of 394.0, a low of 386.1, and closed at 391.75. The previous close was 390.9. The total traded volume was 1674322, with a turnover of 65222301904999.99 and a deliverable volume of 881911 which represents 52.67% of the total volume.',\n",
       " 'On 2017-03-08, the stock ADANIPORTS opened at 308.25, reached a high of 309.0, a low of 300.85, and closed at 306.5. The previous close was 308.25. The total traded volume was 2786117, with a turnover of 85071850465000.0 and a deliverable volume of 1275419 which represents 45.78% of the total volume.',\n",
       " 'On 2015-05-28, the stock ADANIPORTS opened at 339.9, reached a high of 340.6, a low of 320.55, and closed at 333.0. The previous close was 338.9. The total traded volume was 3394601, with a turnover of 111847992415000.02 and a deliverable volume of 1304186 which represents 38.42% of the total volume.',\n",
       " 'On 2014-12-18, the stock ADANIPORTS opened at 278.0, reached a high of 291.0, a low of 277.65, and closed at 289.95. The previous close was 273.75. The total traded volume was 3335626, with a turnover of 95422019255000.0 and a deliverable volume of 1879782 which represents 56.35% of the total volume.',\n",
       " 'On 2017-10-19, the stock ADANIPORTS opened at 405.0, reached a high of 406.3, a low of 397.0, and closed at 401.4. The previous close was 406.9. The total traded volume was 137226, with a turnover of 5523814010000.0 and a deliverable volume of 36291 which represents 26.45% of the total volume.',\n",
       " 'On 2012-10-18, the stock ADANIPORTS opened at 120.0, reached a high of 125.4, a low of 119.3, and closed at 124.7. The previous close was 120.0. The total traded volume was 1293131, with a turnover of 15960954419999.998 and a deliverable volume of 672656 which represents 52.02% of the total volume.',\n",
       " 'On 2020-12-15, the stock ADANIPORTS opened at 469.5, reached a high of 479.65, a low of 461.45, and closed at 475.75. The previous close was 467.0. The total traded volume was 10973876, with a turnover of 520536129125000.0 and a deliverable volume of 1723295 which represents 15.70% of the total volume.',\n",
       " 'On 2019-11-15, the stock ADANIPORTS opened at 369.1, reached a high of 370.9, a low of 365.5, and closed at 366.3. The previous close was 369.1. The total traded volume was 2362065, with a turnover of 86947853715000.0 and a deliverable volume of 1262202 which represents 53.44% of the total volume.']"
      ]
     },
     "execution_count": 7,
     "metadata": {},
     "output_type": "execute_result"
    }
   ],
   "source": [
    "# this is a list of document\n",
    "sentences"
   ]
  },
  {
   "cell_type": "code",
   "execution_count": 8,
   "metadata": {},
   "outputs": [
    {
     "data": {
      "text/plain": [
       "list"
      ]
     },
     "execution_count": 8,
     "metadata": {},
     "output_type": "execute_result"
    }
   ],
   "source": [
    "type(sentences)"
   ]
  },
  {
   "cell_type": "code",
   "execution_count": 9,
   "metadata": {},
   "outputs": [
    {
     "data": {
      "text/plain": [
       "str"
      ]
     },
     "execution_count": 9,
     "metadata": {},
     "output_type": "execute_result"
    }
   ],
   "source": [
    "type(sentences[0])"
   ]
  },
  {
   "cell_type": "code",
   "execution_count": 25,
   "metadata": {},
   "outputs": [],
   "source": [
    "import os\n",
    "from langchain_community.llms import Ollama\n",
    "from langchain_core.prompts import ChatPromptTemplate\n",
    "from langchain_core.output_parsers import StrOutputParser\n",
    "from dotenv import load_dotenv\n",
    "load_dotenv()\n",
    "\n",
    "os.environ['OPENAI_API_KEY']=os.getenv(\"OPENAI_API_KEY\")\n",
    "\n",
    "os.environ['LANGCHAIN_API_KEY']=os.getenv(\"LANGCHAIN_API_KEY\")\n",
    "os.environ[\"LANGCHAIN_TRACING_V2\"]=\"true\"\n",
    "os.environ[\"LANGCHAIN_PROJECT\"]=os.getenv(\"LANGCHAIN_PROJECT\")\n",
    "\n",
    "os.environ[\"groq_api_key\"] = os.getenv(\"GROQ_API_KEY\")\n"
   ]
  },
  {
   "cell_type": "code",
   "execution_count": 11,
   "metadata": {},
   "outputs": [
    {
     "data": {
      "text/plain": [
       "OllamaEmbeddings(model='nomic-embed-text', base_url=None, client_kwargs={})"
      ]
     },
     "execution_count": 11,
     "metadata": {},
     "output_type": "execute_result"
    }
   ],
   "source": [
    "from langchain_ollama import OllamaEmbeddings\n",
    "\n",
    "embeddings = OllamaEmbeddings(\n",
    "    model=\"nomic-embed-text\",\n",
    ")\n",
    "\n",
    "embeddings"
   ]
  },
  {
   "cell_type": "code",
   "execution_count": 12,
   "metadata": {},
   "outputs": [],
   "source": [
    "from langchain.schema import Document\n",
    "\n",
    "# Assuming 'text_list' is your list of strings\n",
    "documents = [Document(page_content=text) for text in sentences] \n"
   ]
  },
  {
   "cell_type": "code",
   "execution_count": 13,
   "metadata": {},
   "outputs": [
    {
     "name": "stdout",
     "output_type": "stream",
     "text": [
      "<class 'list'>\n",
      "<class 'langchain_core.documents.base.Document'>\n",
      "[Document(metadata={}, page_content='On 2016-12-23, the stock ADANIPORTS opened at 262.15, reached a high of 268.5, a low of 259.05, and closed at 262.9. The previous close was 263.55. The total traded volume was 3336863, with a turnover of 87787444520000.0 and a deliverable volume of 1241539 which represents 37.21% of the total volume.'), Document(metadata={}, page_content='On 2012-05-03, the stock ADANIPORTS opened at 126.55, reached a high of 127.5, a low of 124.45, and closed at 124.95. The previous close was 126.05. The total traded volume was 626023, with a turnover of 7862758770000.0 and a deliverable volume of 202501 which represents 32.35% of the total volume.'), Document(metadata={}, page_content='On 2019-04-24, the stock ADANIPORTS opened at 387.7, reached a high of 394.0, a low of 386.1, and closed at 391.75. The previous close was 390.9. The total traded volume was 1674322, with a turnover of 65222301904999.99 and a deliverable volume of 881911 which represents 52.67% of the total volume.'), Document(metadata={}, page_content='On 2017-03-08, the stock ADANIPORTS opened at 308.25, reached a high of 309.0, a low of 300.85, and closed at 306.5. The previous close was 308.25. The total traded volume was 2786117, with a turnover of 85071850465000.0 and a deliverable volume of 1275419 which represents 45.78% of the total volume.'), Document(metadata={}, page_content='On 2015-05-28, the stock ADANIPORTS opened at 339.9, reached a high of 340.6, a low of 320.55, and closed at 333.0. The previous close was 338.9. The total traded volume was 3394601, with a turnover of 111847992415000.02 and a deliverable volume of 1304186 which represents 38.42% of the total volume.'), Document(metadata={}, page_content='On 2014-12-18, the stock ADANIPORTS opened at 278.0, reached a high of 291.0, a low of 277.65, and closed at 289.95. The previous close was 273.75. The total traded volume was 3335626, with a turnover of 95422019255000.0 and a deliverable volume of 1879782 which represents 56.35% of the total volume.'), Document(metadata={}, page_content='On 2017-10-19, the stock ADANIPORTS opened at 405.0, reached a high of 406.3, a low of 397.0, and closed at 401.4. The previous close was 406.9. The total traded volume was 137226, with a turnover of 5523814010000.0 and a deliverable volume of 36291 which represents 26.45% of the total volume.'), Document(metadata={}, page_content='On 2012-10-18, the stock ADANIPORTS opened at 120.0, reached a high of 125.4, a low of 119.3, and closed at 124.7. The previous close was 120.0. The total traded volume was 1293131, with a turnover of 15960954419999.998 and a deliverable volume of 672656 which represents 52.02% of the total volume.'), Document(metadata={}, page_content='On 2020-12-15, the stock ADANIPORTS opened at 469.5, reached a high of 479.65, a low of 461.45, and closed at 475.75. The previous close was 467.0. The total traded volume was 10973876, with a turnover of 520536129125000.0 and a deliverable volume of 1723295 which represents 15.70% of the total volume.'), Document(metadata={}, page_content='On 2019-11-15, the stock ADANIPORTS opened at 369.1, reached a high of 370.9, a low of 365.5, and closed at 366.3. The previous close was 369.1. The total traded volume was 2362065, with a turnover of 86947853715000.0 and a deliverable volume of 1262202 which represents 53.44% of the total volume.')]\n"
     ]
    }
   ],
   "source": [
    "s= type(documents)\n",
    "ss= type(documents[0])\n",
    "print(s)\n",
    "print(ss)\n",
    "print(documents)"
   ]
  },
  {
   "cell_type": "code",
   "execution_count": 16,
   "metadata": {},
   "outputs": [],
   "source": [
    "from langchain_community.document_loaders import TextLoader\n",
    "# import \n",
    "from langchain_community.vectorstores import FAISS\n",
    "db=FAISS.from_documents(documents,embeddings)"
   ]
  },
  {
   "cell_type": "code",
   "execution_count": 17,
   "metadata": {},
   "outputs": [
    {
     "name": "stdout",
     "output_type": "stream",
     "text": [
      "<langchain_community.vectorstores.faiss.FAISS object at 0x0000013613E21960>\n"
     ]
    }
   ],
   "source": [
    "print(db)"
   ]
  },
  {
   "cell_type": "code",
   "execution_count": 19,
   "metadata": {},
   "outputs": [
    {
     "data": {
      "text/plain": [
       "'On 2019-04-24, the stock ADANIPORTS opened at 387.7, reached a high of 394.0, a low of 386.1, and closed at 391.75. The previous close was 390.9. The total traded volume was 1674322, with a turnover of 65222301904999.99 and a deliverable volume of 881911 which represents 52.67% of the total volume.'"
      ]
     },
     "execution_count": 19,
     "metadata": {},
     "output_type": "execute_result"
    }
   ],
   "source": [
    "# querying\n",
    "query=\"What's the best stock for 2019?\"\n",
    "docs=db.similarity_search(query)\n",
    "docs[0].page_content"
   ]
  },
  {
   "cell_type": "code",
   "execution_count": 20,
   "metadata": {},
   "outputs": [
    {
     "data": {
      "text/plain": [
       "[(Document(metadata={}, page_content='On 2019-04-24, the stock ADANIPORTS opened at 387.7, reached a high of 394.0, a low of 386.1, and closed at 391.75. The previous close was 390.9. The total traded volume was 1674322, with a turnover of 65222301904999.99 and a deliverable volume of 881911 which represents 52.67% of the total volume.'),\n",
       "  0.6892146),\n",
       " (Document(metadata={}, page_content='On 2019-11-15, the stock ADANIPORTS opened at 369.1, reached a high of 370.9, a low of 365.5, and closed at 366.3. The previous close was 369.1. The total traded volume was 2362065, with a turnover of 86947853715000.0 and a deliverable volume of 1262202 which represents 53.44% of the total volume.'),\n",
       "  0.70859444),\n",
       " (Document(metadata={}, page_content='On 2017-10-19, the stock ADANIPORTS opened at 405.0, reached a high of 406.3, a low of 397.0, and closed at 401.4. The previous close was 406.9. The total traded volume was 137226, with a turnover of 5523814010000.0 and a deliverable volume of 36291 which represents 26.45% of the total volume.'),\n",
       "  0.7369573),\n",
       " (Document(metadata={}, page_content='On 2020-12-15, the stock ADANIPORTS opened at 469.5, reached a high of 479.65, a low of 461.45, and closed at 475.75. The previous close was 467.0. The total traded volume was 10973876, with a turnover of 520536129125000.0 and a deliverable volume of 1723295 which represents 15.70% of the total volume.'),\n",
       "  0.7604945)]"
      ]
     },
     "execution_count": 20,
     "metadata": {},
     "output_type": "execute_result"
    }
   ],
   "source": [
    "# similarity score\n",
    "doc_score=db.similarity_search_with_score(query)\n",
    "doc_score"
   ]
  },
  {
   "cell_type": "code",
   "execution_count": 21,
   "metadata": {},
   "outputs": [
    {
     "data": {
      "text/plain": [
       "'On 2019-04-24, the stock ADANIPORTS opened at 387.7, reached a high of 394.0, a low of 386.1, and closed at 391.75. The previous close was 390.9. The total traded volume was 1674322, with a turnover of 65222301904999.99 and a deliverable volume of 881911 which represents 52.67% of the total volume.'"
      ]
     },
     "execution_count": 21,
     "metadata": {},
     "output_type": "execute_result"
    },
    {
     "name": "stderr",
     "output_type": "stream",
     "text": [
      "Failed to get info from https://api.smith.langchain.com: LangSmithConnectionError('Connection error caused failure to GET /info in LangSmith API. Please confirm your internet connection. ConnectTimeout(MaxRetryError(\"HTTPSConnectionPool(host=\\'api.smith.langchain.com\\', port=443): Max retries exceeded with url: /info (Caused by ConnectTimeoutError(<urllib3.connection.HTTPSConnection object at 0x0000013613DFAB00>, \\'Connection to api.smith.langchain.com timed out. (connect timeout=10.0)\\'))\"))\\nContent-Length: None\\nAPI Key: lsv2_********************************************8b')\n",
      "Failed to batch ingest runs: langsmith.utils.LangSmithConnectionError: Connection error caused failure to POST https://api.smith.langchain.com/runs/batch in LangSmith API. Please confirm your internet connection. ConnectTimeout(MaxRetryError(\"HTTPSConnectionPool(host='api.smith.langchain.com', port=443): Max retries exceeded with url: /runs/batch (Caused by ConnectTimeoutError(<urllib3.connection.HTTPSConnection object at 0x000001364D09ED10>, 'Connection to api.smith.langchain.com timed out. (connect timeout=10.0)'))\"))\n",
      "Content-Length: 2497\n",
      "API Key: lsv2_********************************************8b\n",
      "post: trace=318dfdd9-e8fb-4c60-8725-5fbfefc2ad14,id=318dfdd9-e8fb-4c60-8725-5fbfefc2ad14\n"
     ]
    }
   ],
   "source": [
    "# other way \n",
    "retriever = db.as_retriever()\n",
    "sentences = retriever.invoke(query)\n",
    "sentences[0].page_content"
   ]
  },
  {
   "cell_type": "code",
   "execution_count": 22,
   "metadata": {},
   "outputs": [],
   "source": [
    "# locally saving the database\n",
    "db.save_local(\"small_db\")"
   ]
  },
  {
   "cell_type": "code",
   "execution_count": 35,
   "metadata": {},
   "outputs": [
    {
     "data": {
      "text/plain": [
       "\" \\nimport ollama\\nresponse = ollama.chat(model='llama3.2:1b ', messages=[\\n    {\\n        'role': 'user',\\n        'content': 'Why is sky blue?',\\n    },\\n])\\nprint(response['message']['content'])\""
      ]
     },
     "execution_count": 35,
     "metadata": {},
     "output_type": "execute_result"
    }
   ],
   "source": [
    "# checking\n",
    "''' \n",
    "import ollama\n",
    "response = ollama.chat(model='llama3.2:1b ', messages=[\n",
    "    {\n",
    "        'role': 'user',\n",
    "        'content': 'Why is sky blue?',\n",
    "    },\n",
    "])\n",
    "print(response['message']['content'])''' \n"
   ]
  },
  {
   "cell_type": "code",
   "execution_count": 36,
   "metadata": {},
   "outputs": [
    {
     "data": {
      "text/plain": [
       "ChatGroq(client=<groq.resources.chat.completions.Completions object at 0x000001364D534B80>, async_client=<groq.resources.chat.completions.AsyncCompletions object at 0x000001364D535FC0>, temperature=1e-08, model_kwargs={}, groq_api_key=SecretStr('**********'))"
      ]
     },
     "execution_count": 36,
     "metadata": {},
     "output_type": "execute_result"
    }
   ],
   "source": [
    "from langchain_groq import ChatGroq\n",
    "\n",
    "llm = ChatGroq(\n",
    "    model=\"mixtral-8x7b-32768\",\n",
    "    temperature=0,\n",
    "    max_tokens=None,\n",
    "    timeout=None,\n",
    "    # max_retries=2,\n",
    "    # other params...\n",
    ")\n",
    "llm\n",
    "\n"
   ]
  },
  {
   "cell_type": "code",
   "execution_count": 37,
   "metadata": {},
   "outputs": [
    {
     "data": {
      "text/plain": [
       "\"In 2012, the best performing stock in the S&P 500 index was Netflix (NFLX), with a remarkable return of 134%. This was largely due to the company's successful transition from DVD-by-mail to streaming services. However, it's important to note that past performance is not indicative of future results.\""
      ]
     },
     "execution_count": 37,
     "metadata": {},
     "output_type": "execute_result"
    }
   ],
   "source": [
    "# Prompt Template\n",
    "from langchain_core.prompts import ChatPromptTemplate\n",
    "generic_template = \"Act as a stock expert and answer the question. Keep it to the point. Use simple language.\"\n",
    "prompt = ChatPromptTemplate.from_messages(\n",
    "    [(\"system\",generic_template),(\"human\", \"{input}\"),]\n",
    ")\n",
    "\n",
    "chain = prompt | llm | parser\n",
    "result=chain.invoke(\n",
    "    {\n",
    "\n",
    "        \"input\": \"Which stock performed best in 2012?\",\n",
    "    }\n",
    ")\n",
    "result"
   ]
  },
  {
   "cell_type": "code",
   "execution_count": null,
   "metadata": {},
   "outputs": [],
   "source": []
  }
 ],
 "metadata": {
  "kernelspec": {
   "display_name": "Python 3",
   "language": "python",
   "name": "python3"
  },
  "language_info": {
   "codemirror_mode": {
    "name": "ipython",
    "version": 3
   },
   "file_extension": ".py",
   "mimetype": "text/x-python",
   "name": "python",
   "nbconvert_exporter": "python",
   "pygments_lexer": "ipython3",
   "version": "3.10.0"
  }
 },
 "nbformat": 4,
 "nbformat_minor": 2
}
